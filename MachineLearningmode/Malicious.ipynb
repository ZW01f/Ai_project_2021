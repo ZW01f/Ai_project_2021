{
 "cells": [
  {
   "cell_type": "code",
   "execution_count": 1,
   "metadata": {},
   "outputs": [
    {
     "name": "stderr",
     "output_type": "stream",
     "text": [
      "D:\\Anaconda\\lib\\site-packages\\sklearn\\externals\\joblib\\__init__.py:15: DeprecationWarning: sklearn.externals.joblib is deprecated in 0.21 and will be removed in 0.23. Please import this functionality directly from joblib, which can be installed with: pip install joblib. If this warning is raised when loading pickled models, you may need to re-serialize those models with scikit-learn 0.21+.\n",
      "  warnings.warn(msg, category=DeprecationWarning)\n"
     ]
    }
   ],
   "source": [
    "import pandas as pd\n",
    "import matplotlib.pyplot as plt\n",
    "import numpy as np \n",
    "import seaborn as sns \n",
    "\n",
    "from sklearn.model_selection import train_test_split\n",
    "import sklearn.externals.joblib as jb\n",
    "\n",
    "\n",
    "from sklearn.ensemble import RandomForestClassifier\n",
    "from sklearn.linear_model import LogisticRegression\n",
    "from sklearn.svm import SVC\n",
    "from sklearn.neighbors import KNeighborsClassifier\n",
    "\n",
    "import missingno as msno\n",
    "from sklearn.metrics import confusion_matrix\n",
    "from sklearn.metrics import precision_score\n",
    "from sklearn.metrics import recall_score\n",
    "from sklearn.model_selection import GridSearchCV\n",
    "\n",
    "import warnings\n",
    "\n",
    "warnings.filterwarnings('ignore')\n",
    "sns.set_style(\"darkgrid\")"
   ]
  },
  {
   "cell_type": "code",
   "execution_count": 2,
   "metadata": {},
   "outputs": [],
   "source": [
    "data=pd.read_csv('D:\\Malware Detection\\Ai_project_2021\\data_set\\data_set.csv')"
   ]
  },
  {
   "cell_type": "code",
   "execution_count": 3,
   "metadata": {},
   "outputs": [],
   "source": [
    "X=data.copy()"
   ]
  },
  {
   "cell_type": "code",
   "execution_count": 4,
   "metadata": {},
   "outputs": [
    {
     "data": {
      "text/html": [
       "<div>\n",
       "<style scoped>\n",
       "    .dataframe tbody tr th:only-of-type {\n",
       "        vertical-align: middle;\n",
       "    }\n",
       "\n",
       "    .dataframe tbody tr th {\n",
       "        vertical-align: top;\n",
       "    }\n",
       "\n",
       "    .dataframe thead th {\n",
       "        text-align: right;\n",
       "    }\n",
       "</style>\n",
       "<table border=\"1\" class=\"dataframe\">\n",
       "  <thead>\n",
       "    <tr style=\"text-align: right;\">\n",
       "      <th></th>\n",
       "      <th>status</th>\n",
       "      <th>obj</th>\n",
       "      <th>endobj</th>\n",
       "      <th>stream</th>\n",
       "      <th>endstream</th>\n",
       "      <th>xref</th>\n",
       "      <th>trailer</th>\n",
       "      <th>startxref</th>\n",
       "      <th>Page</th>\n",
       "      <th>Encrypt</th>\n",
       "      <th>...</th>\n",
       "      <th>Javascript</th>\n",
       "      <th>AA</th>\n",
       "      <th>OpenAction</th>\n",
       "      <th>AcroForm</th>\n",
       "      <th>JBIG2Decode</th>\n",
       "      <th>RichMedia</th>\n",
       "      <th>Launch</th>\n",
       "      <th>EmbeddedFile</th>\n",
       "      <th>XFA</th>\n",
       "      <th>Colors</th>\n",
       "    </tr>\n",
       "  </thead>\n",
       "  <tbody>\n",
       "    <tr>\n",
       "      <th>0</th>\n",
       "      <td>malcious</td>\n",
       "      <td>9</td>\n",
       "      <td>9</td>\n",
       "      <td>2</td>\n",
       "      <td>2</td>\n",
       "      <td>0</td>\n",
       "      <td>1</td>\n",
       "      <td>1</td>\n",
       "      <td>0</td>\n",
       "      <td>0</td>\n",
       "      <td>...</td>\n",
       "      <td>2</td>\n",
       "      <td>0</td>\n",
       "      <td>0</td>\n",
       "      <td>0</td>\n",
       "      <td>0</td>\n",
       "      <td>0</td>\n",
       "      <td>0</td>\n",
       "      <td>0</td>\n",
       "      <td>0</td>\n",
       "      <td>0</td>\n",
       "    </tr>\n",
       "    <tr>\n",
       "      <th>1</th>\n",
       "      <td>malcious</td>\n",
       "      <td>9</td>\n",
       "      <td>9</td>\n",
       "      <td>3</td>\n",
       "      <td>3</td>\n",
       "      <td>1</td>\n",
       "      <td>1</td>\n",
       "      <td>1</td>\n",
       "      <td>1</td>\n",
       "      <td>0</td>\n",
       "      <td>...</td>\n",
       "      <td>2</td>\n",
       "      <td>0</td>\n",
       "      <td>0</td>\n",
       "      <td>0</td>\n",
       "      <td>0</td>\n",
       "      <td>0</td>\n",
       "      <td>0</td>\n",
       "      <td>0</td>\n",
       "      <td>0</td>\n",
       "      <td>0</td>\n",
       "    </tr>\n",
       "    <tr>\n",
       "      <th>2</th>\n",
       "      <td>malcious</td>\n",
       "      <td>15</td>\n",
       "      <td>15</td>\n",
       "      <td>2</td>\n",
       "      <td>2</td>\n",
       "      <td>1</td>\n",
       "      <td>1</td>\n",
       "      <td>1</td>\n",
       "      <td>1</td>\n",
       "      <td>0</td>\n",
       "      <td>...</td>\n",
       "      <td>2</td>\n",
       "      <td>0</td>\n",
       "      <td>0</td>\n",
       "      <td>1</td>\n",
       "      <td>0</td>\n",
       "      <td>0</td>\n",
       "      <td>0</td>\n",
       "      <td>0</td>\n",
       "      <td>0</td>\n",
       "      <td>0</td>\n",
       "    </tr>\n",
       "    <tr>\n",
       "      <th>3</th>\n",
       "      <td>malcious</td>\n",
       "      <td>8</td>\n",
       "      <td>8</td>\n",
       "      <td>2</td>\n",
       "      <td>2</td>\n",
       "      <td>1</td>\n",
       "      <td>1</td>\n",
       "      <td>1</td>\n",
       "      <td>1</td>\n",
       "      <td>0</td>\n",
       "      <td>...</td>\n",
       "      <td>1</td>\n",
       "      <td>0</td>\n",
       "      <td>1</td>\n",
       "      <td>0</td>\n",
       "      <td>0</td>\n",
       "      <td>0</td>\n",
       "      <td>0</td>\n",
       "      <td>0</td>\n",
       "      <td>0</td>\n",
       "      <td>0</td>\n",
       "    </tr>\n",
       "    <tr>\n",
       "      <th>4</th>\n",
       "      <td>malcious</td>\n",
       "      <td>9</td>\n",
       "      <td>9</td>\n",
       "      <td>2</td>\n",
       "      <td>2</td>\n",
       "      <td>0</td>\n",
       "      <td>1</td>\n",
       "      <td>0</td>\n",
       "      <td>1</td>\n",
       "      <td>0</td>\n",
       "      <td>...</td>\n",
       "      <td>2</td>\n",
       "      <td>0</td>\n",
       "      <td>0</td>\n",
       "      <td>0</td>\n",
       "      <td>0</td>\n",
       "      <td>0</td>\n",
       "      <td>0</td>\n",
       "      <td>0</td>\n",
       "      <td>0</td>\n",
       "      <td>0</td>\n",
       "    </tr>\n",
       "  </tbody>\n",
       "</table>\n",
       "<p>5 rows × 22 columns</p>\n",
       "</div>"
      ],
      "text/plain": [
       "     status obj endobj stream endstream xref trailer startxref Page Encrypt  \\\n",
       "0  malcious   9      9      2         2    0       1         1    0       0   \n",
       "1  malcious   9      9      3         3    1       1         1    1       0   \n",
       "2  malcious  15     15      2         2    1       1         1    1       0   \n",
       "3  malcious   8      8      2         2    1       1         1    1       0   \n",
       "4  malcious   9      9      2         2    0       1         0    1       0   \n",
       "\n",
       "   ... Javascript AA OpenAction AcroForm JBIG2Decode RichMedia Launch  \\\n",
       "0  ...          2  0          0        0           0         0      0   \n",
       "1  ...          2  0          0        0           0         0      0   \n",
       "2  ...          2  0          0        1           0         0      0   \n",
       "3  ...          1  0          1        0           0         0      0   \n",
       "4  ...          2  0          0        0           0         0      0   \n",
       "\n",
       "  EmbeddedFile XFA Colors  \n",
       "0            0   0      0  \n",
       "1            0   0      0  \n",
       "2            0   0      0  \n",
       "3            0   0      0  \n",
       "4            0   0      0  \n",
       "\n",
       "[5 rows x 22 columns]"
      ]
     },
     "execution_count": 4,
     "metadata": {},
     "output_type": "execute_result"
    }
   ],
   "source": [
    "X.head()"
   ]
  },
  {
   "cell_type": "code",
   "execution_count": 5,
   "metadata": {},
   "outputs": [
    {
     "name": "stdout",
     "output_type": "stream",
     "text": [
      "<class 'pandas.core.frame.DataFrame'>\n",
      "RangeIndex: 19987 entries, 0 to 19986\n",
      "Data columns (total 22 columns):\n",
      "status          19987 non-null object\n",
      "obj             19987 non-null object\n",
      "endobj          19987 non-null object\n",
      "stream          19987 non-null object\n",
      "endstream       19987 non-null object\n",
      "xref            19987 non-null object\n",
      "trailer         19987 non-null object\n",
      "startxref       19987 non-null object\n",
      "Page            19987 non-null object\n",
      "Encrypt         19987 non-null object\n",
      "ObjStm          19987 non-null object\n",
      "JS              19987 non-null object\n",
      "Javascript      19987 non-null object\n",
      "AA              19987 non-null object\n",
      "OpenAction      19987 non-null object\n",
      "AcroForm        19987 non-null object\n",
      "JBIG2Decode     19987 non-null object\n",
      "RichMedia       19987 non-null object\n",
      "Launch          19987 non-null object\n",
      "EmbeddedFile    19987 non-null object\n",
      "XFA             19987 non-null object\n",
      "Colors          19987 non-null object\n",
      "dtypes: object(22)\n",
      "memory usage: 3.4+ MB\n"
     ]
    }
   ],
   "source": [
    "X.info()"
   ]
  },
  {
   "cell_type": "markdown",
   "metadata": {},
   "source": [
    "#### we notice that there are many features we should convert them to numeric"
   ]
  },
  {
   "cell_type": "code",
   "execution_count": 6,
   "metadata": {},
   "outputs": [
    {
     "data": {
      "text/html": [
       "<div>\n",
       "<style scoped>\n",
       "    .dataframe tbody tr th:only-of-type {\n",
       "        vertical-align: middle;\n",
       "    }\n",
       "\n",
       "    .dataframe tbody tr th {\n",
       "        vertical-align: top;\n",
       "    }\n",
       "\n",
       "    .dataframe thead th {\n",
       "        text-align: right;\n",
       "    }\n",
       "</style>\n",
       "<table border=\"1\" class=\"dataframe\">\n",
       "  <thead>\n",
       "    <tr style=\"text-align: right;\">\n",
       "      <th></th>\n",
       "      <th>status</th>\n",
       "      <th>obj</th>\n",
       "      <th>endobj</th>\n",
       "      <th>stream</th>\n",
       "      <th>endstream</th>\n",
       "      <th>xref</th>\n",
       "      <th>trailer</th>\n",
       "      <th>startxref</th>\n",
       "      <th>Page</th>\n",
       "      <th>Encrypt</th>\n",
       "      <th>...</th>\n",
       "      <th>Javascript</th>\n",
       "      <th>AA</th>\n",
       "      <th>OpenAction</th>\n",
       "      <th>AcroForm</th>\n",
       "      <th>JBIG2Decode</th>\n",
       "      <th>RichMedia</th>\n",
       "      <th>Launch</th>\n",
       "      <th>EmbeddedFile</th>\n",
       "      <th>XFA</th>\n",
       "      <th>Colors</th>\n",
       "    </tr>\n",
       "  </thead>\n",
       "  <tbody>\n",
       "    <tr>\n",
       "      <th>count</th>\n",
       "      <td>19987</td>\n",
       "      <td>19987</td>\n",
       "      <td>19987</td>\n",
       "      <td>19987</td>\n",
       "      <td>19987</td>\n",
       "      <td>19987</td>\n",
       "      <td>19987</td>\n",
       "      <td>19987</td>\n",
       "      <td>19987</td>\n",
       "      <td>19987</td>\n",
       "      <td>...</td>\n",
       "      <td>19987</td>\n",
       "      <td>19987</td>\n",
       "      <td>19987</td>\n",
       "      <td>19987</td>\n",
       "      <td>19987</td>\n",
       "      <td>19987</td>\n",
       "      <td>19987</td>\n",
       "      <td>19987</td>\n",
       "      <td>19987</td>\n",
       "      <td>19987</td>\n",
       "    </tr>\n",
       "    <tr>\n",
       "      <th>unique</th>\n",
       "      <td>3</td>\n",
       "      <td>601</td>\n",
       "      <td>601</td>\n",
       "      <td>289</td>\n",
       "      <td>289</td>\n",
       "      <td>18</td>\n",
       "      <td>18</td>\n",
       "      <td>15</td>\n",
       "      <td>102</td>\n",
       "      <td>4</td>\n",
       "      <td>...</td>\n",
       "      <td>27</td>\n",
       "      <td>39</td>\n",
       "      <td>7</td>\n",
       "      <td>8</td>\n",
       "      <td>15</td>\n",
       "      <td>5</td>\n",
       "      <td>5</td>\n",
       "      <td>15</td>\n",
       "      <td>5</td>\n",
       "      <td>4</td>\n",
       "    </tr>\n",
       "    <tr>\n",
       "      <th>top</th>\n",
       "      <td>malcious</td>\n",
       "      <td>9</td>\n",
       "      <td>9</td>\n",
       "      <td>2</td>\n",
       "      <td>2</td>\n",
       "      <td>1</td>\n",
       "      <td>1</td>\n",
       "      <td>1</td>\n",
       "      <td>1</td>\n",
       "      <td>0</td>\n",
       "      <td>...</td>\n",
       "      <td>0</td>\n",
       "      <td>0</td>\n",
       "      <td>0</td>\n",
       "      <td>0</td>\n",
       "      <td>0</td>\n",
       "      <td>0</td>\n",
       "      <td>0</td>\n",
       "      <td>0</td>\n",
       "      <td>0</td>\n",
       "      <td>0</td>\n",
       "    </tr>\n",
       "    <tr>\n",
       "      <th>freq</th>\n",
       "      <td>10980</td>\n",
       "      <td>3962</td>\n",
       "      <td>3950</td>\n",
       "      <td>5497</td>\n",
       "      <td>5458</td>\n",
       "      <td>11043</td>\n",
       "      <td>12226</td>\n",
       "      <td>11461</td>\n",
       "      <td>13176</td>\n",
       "      <td>19922</td>\n",
       "      <td>...</td>\n",
       "      <td>9684</td>\n",
       "      <td>19541</td>\n",
       "      <td>11046</td>\n",
       "      <td>15441</td>\n",
       "      <td>19829</td>\n",
       "      <td>19977</td>\n",
       "      <td>19900</td>\n",
       "      <td>18268</td>\n",
       "      <td>19062</td>\n",
       "      <td>19977</td>\n",
       "    </tr>\n",
       "  </tbody>\n",
       "</table>\n",
       "<p>4 rows × 22 columns</p>\n",
       "</div>"
      ],
      "text/plain": [
       "          status    obj endobj stream endstream   xref trailer startxref  \\\n",
       "count      19987  19987  19987  19987     19987  19987   19987     19987   \n",
       "unique         3    601    601    289       289     18      18        15   \n",
       "top     malcious      9      9      2         2      1       1         1   \n",
       "freq       10980   3962   3950   5497      5458  11043   12226     11461   \n",
       "\n",
       "         Page Encrypt  ... Javascript     AA OpenAction AcroForm JBIG2Decode  \\\n",
       "count   19987   19987  ...      19987  19987      19987    19987       19987   \n",
       "unique    102       4  ...         27     39          7        8          15   \n",
       "top         1       0  ...          0      0          0        0           0   \n",
       "freq    13176   19922  ...       9684  19541      11046    15441       19829   \n",
       "\n",
       "       RichMedia Launch EmbeddedFile    XFA Colors  \n",
       "count      19987  19987        19987  19987  19987  \n",
       "unique         5      5           15      5      4  \n",
       "top            0      0            0      0      0  \n",
       "freq       19977  19900        18268  19062  19977  \n",
       "\n",
       "[4 rows x 22 columns]"
      ]
     },
     "execution_count": 6,
     "metadata": {},
     "output_type": "execute_result"
    }
   ],
   "source": [
    "X.describe()"
   ]
  },
  {
   "cell_type": "markdown",
   "metadata": {},
   "source": [
    "#### We took a quick look on most frequent values"
   ]
  },
  {
   "cell_type": "code",
   "execution_count": 7,
   "metadata": {},
   "outputs": [],
   "source": [
    "for x in X.iloc[:,1:].columns:\n",
    "        X[x]=pd.to_numeric(X[x],errors='coerce')"
   ]
  },
  {
   "cell_type": "code",
   "execution_count": 8,
   "metadata": {},
   "outputs": [
    {
     "data": {
      "text/html": [
       "<div>\n",
       "<style scoped>\n",
       "    .dataframe tbody tr th:only-of-type {\n",
       "        vertical-align: middle;\n",
       "    }\n",
       "\n",
       "    .dataframe tbody tr th {\n",
       "        vertical-align: top;\n",
       "    }\n",
       "\n",
       "    .dataframe thead th {\n",
       "        text-align: right;\n",
       "    }\n",
       "</style>\n",
       "<table border=\"1\" class=\"dataframe\">\n",
       "  <thead>\n",
       "    <tr style=\"text-align: right;\">\n",
       "      <th></th>\n",
       "      <th>obj</th>\n",
       "      <th>endobj</th>\n",
       "      <th>stream</th>\n",
       "      <th>endstream</th>\n",
       "      <th>xref</th>\n",
       "      <th>trailer</th>\n",
       "      <th>startxref</th>\n",
       "      <th>Page</th>\n",
       "      <th>Encrypt</th>\n",
       "      <th>ObjStm</th>\n",
       "      <th>...</th>\n",
       "      <th>Javascript</th>\n",
       "      <th>AA</th>\n",
       "      <th>OpenAction</th>\n",
       "      <th>AcroForm</th>\n",
       "      <th>JBIG2Decode</th>\n",
       "      <th>RichMedia</th>\n",
       "      <th>Launch</th>\n",
       "      <th>EmbeddedFile</th>\n",
       "      <th>XFA</th>\n",
       "      <th>Colors</th>\n",
       "    </tr>\n",
       "  </thead>\n",
       "  <tbody>\n",
       "    <tr>\n",
       "      <th>count</th>\n",
       "      <td>19986.000000</td>\n",
       "      <td>19986.000000</td>\n",
       "      <td>19986.000000</td>\n",
       "      <td>19986.000000</td>\n",
       "      <td>19986.000000</td>\n",
       "      <td>19986.000000</td>\n",
       "      <td>19986.000000</td>\n",
       "      <td>19986.000000</td>\n",
       "      <td>19986.000000</td>\n",
       "      <td>19986.000000</td>\n",
       "      <td>...</td>\n",
       "      <td>19986.000000</td>\n",
       "      <td>19986.000000</td>\n",
       "      <td>19986.000000</td>\n",
       "      <td>19986.000000</td>\n",
       "      <td>19986.000000</td>\n",
       "      <td>19986.000000</td>\n",
       "      <td>19986.000000</td>\n",
       "      <td>19986.000000</td>\n",
       "      <td>19986.000000</td>\n",
       "      <td>19986.000000</td>\n",
       "    </tr>\n",
       "    <tr>\n",
       "      <th>mean</th>\n",
       "      <td>46.638197</td>\n",
       "      <td>46.612529</td>\n",
       "      <td>15.775093</td>\n",
       "      <td>15.767337</td>\n",
       "      <td>1.219704</td>\n",
       "      <td>1.279095</td>\n",
       "      <td>1.441759</td>\n",
       "      <td>3.457720</td>\n",
       "      <td>0.004253</td>\n",
       "      <td>1.415641</td>\n",
       "      <td>...</td>\n",
       "      <td>0.808616</td>\n",
       "      <td>0.151456</td>\n",
       "      <td>0.450766</td>\n",
       "      <td>0.298859</td>\n",
       "      <td>0.022516</td>\n",
       "      <td>0.000901</td>\n",
       "      <td>0.008206</td>\n",
       "      <td>0.628890</td>\n",
       "      <td>0.046583</td>\n",
       "      <td>0.000500</td>\n",
       "    </tr>\n",
       "    <tr>\n",
       "      <th>std</th>\n",
       "      <td>114.223816</td>\n",
       "      <td>114.232037</td>\n",
       "      <td>35.353424</td>\n",
       "      <td>35.354490</td>\n",
       "      <td>0.922525</td>\n",
       "      <td>0.873231</td>\n",
       "      <td>0.876077</td>\n",
       "      <td>7.887528</td>\n",
       "      <td>0.079603</td>\n",
       "      <td>4.943535</td>\n",
       "      <td>...</td>\n",
       "      <td>3.417061</td>\n",
       "      <td>3.950536</td>\n",
       "      <td>0.507736</td>\n",
       "      <td>0.610143</td>\n",
       "      <td>0.369859</td>\n",
       "      <td>0.049000</td>\n",
       "      <td>0.548779</td>\n",
       "      <td>2.199603</td>\n",
       "      <td>0.213813</td>\n",
       "      <td>0.024499</td>\n",
       "    </tr>\n",
       "    <tr>\n",
       "      <th>min</th>\n",
       "      <td>1.000000</td>\n",
       "      <td>0.000000</td>\n",
       "      <td>0.000000</td>\n",
       "      <td>0.000000</td>\n",
       "      <td>0.000000</td>\n",
       "      <td>0.000000</td>\n",
       "      <td>0.000000</td>\n",
       "      <td>0.000000</td>\n",
       "      <td>0.000000</td>\n",
       "      <td>0.000000</td>\n",
       "      <td>...</td>\n",
       "      <td>0.000000</td>\n",
       "      <td>0.000000</td>\n",
       "      <td>0.000000</td>\n",
       "      <td>0.000000</td>\n",
       "      <td>0.000000</td>\n",
       "      <td>0.000000</td>\n",
       "      <td>0.000000</td>\n",
       "      <td>0.000000</td>\n",
       "      <td>0.000000</td>\n",
       "      <td>0.000000</td>\n",
       "    </tr>\n",
       "    <tr>\n",
       "      <th>25%</th>\n",
       "      <td>9.000000</td>\n",
       "      <td>9.000000</td>\n",
       "      <td>2.000000</td>\n",
       "      <td>2.000000</td>\n",
       "      <td>1.000000</td>\n",
       "      <td>1.000000</td>\n",
       "      <td>1.000000</td>\n",
       "      <td>1.000000</td>\n",
       "      <td>0.000000</td>\n",
       "      <td>0.000000</td>\n",
       "      <td>...</td>\n",
       "      <td>0.000000</td>\n",
       "      <td>0.000000</td>\n",
       "      <td>0.000000</td>\n",
       "      <td>0.000000</td>\n",
       "      <td>0.000000</td>\n",
       "      <td>0.000000</td>\n",
       "      <td>0.000000</td>\n",
       "      <td>0.000000</td>\n",
       "      <td>0.000000</td>\n",
       "      <td>0.000000</td>\n",
       "    </tr>\n",
       "    <tr>\n",
       "      <th>50%</th>\n",
       "      <td>11.000000</td>\n",
       "      <td>11.000000</td>\n",
       "      <td>3.000000</td>\n",
       "      <td>3.000000</td>\n",
       "      <td>1.000000</td>\n",
       "      <td>1.000000</td>\n",
       "      <td>1.000000</td>\n",
       "      <td>1.000000</td>\n",
       "      <td>0.000000</td>\n",
       "      <td>0.000000</td>\n",
       "      <td>...</td>\n",
       "      <td>1.000000</td>\n",
       "      <td>0.000000</td>\n",
       "      <td>0.000000</td>\n",
       "      <td>0.000000</td>\n",
       "      <td>0.000000</td>\n",
       "      <td>0.000000</td>\n",
       "      <td>0.000000</td>\n",
       "      <td>0.000000</td>\n",
       "      <td>0.000000</td>\n",
       "      <td>0.000000</td>\n",
       "    </tr>\n",
       "    <tr>\n",
       "      <th>75%</th>\n",
       "      <td>40.000000</td>\n",
       "      <td>40.000000</td>\n",
       "      <td>15.000000</td>\n",
       "      <td>15.000000</td>\n",
       "      <td>2.000000</td>\n",
       "      <td>2.000000</td>\n",
       "      <td>2.000000</td>\n",
       "      <td>2.000000</td>\n",
       "      <td>0.000000</td>\n",
       "      <td>0.000000</td>\n",
       "      <td>...</td>\n",
       "      <td>1.000000</td>\n",
       "      <td>0.000000</td>\n",
       "      <td>1.000000</td>\n",
       "      <td>0.000000</td>\n",
       "      <td>0.000000</td>\n",
       "      <td>0.000000</td>\n",
       "      <td>0.000000</td>\n",
       "      <td>0.000000</td>\n",
       "      <td>0.000000</td>\n",
       "      <td>0.000000</td>\n",
       "    </tr>\n",
       "    <tr>\n",
       "      <th>max</th>\n",
       "      <td>3146.000000</td>\n",
       "      <td>3146.000000</td>\n",
       "      <td>902.000000</td>\n",
       "      <td>902.000000</td>\n",
       "      <td>46.000000</td>\n",
       "      <td>46.000000</td>\n",
       "      <td>24.000000</td>\n",
       "      <td>198.000000</td>\n",
       "      <td>2.000000</td>\n",
       "      <td>108.000000</td>\n",
       "      <td>...</td>\n",
       "      <td>404.000000</td>\n",
       "      <td>213.000000</td>\n",
       "      <td>8.000000</td>\n",
       "      <td>6.000000</td>\n",
       "      <td>14.000000</td>\n",
       "      <td>4.000000</td>\n",
       "      <td>77.000000</td>\n",
       "      <td>17.000000</td>\n",
       "      <td>5.000000</td>\n",
       "      <td>2.000000</td>\n",
       "    </tr>\n",
       "  </tbody>\n",
       "</table>\n",
       "<p>8 rows × 21 columns</p>\n",
       "</div>"
      ],
      "text/plain": [
       "                obj        endobj        stream     endstream          xref  \\\n",
       "count  19986.000000  19986.000000  19986.000000  19986.000000  19986.000000   \n",
       "mean      46.638197     46.612529     15.775093     15.767337      1.219704   \n",
       "std      114.223816    114.232037     35.353424     35.354490      0.922525   \n",
       "min        1.000000      0.000000      0.000000      0.000000      0.000000   \n",
       "25%        9.000000      9.000000      2.000000      2.000000      1.000000   \n",
       "50%       11.000000     11.000000      3.000000      3.000000      1.000000   \n",
       "75%       40.000000     40.000000     15.000000     15.000000      2.000000   \n",
       "max     3146.000000   3146.000000    902.000000    902.000000     46.000000   \n",
       "\n",
       "            trailer     startxref          Page       Encrypt        ObjStm  \\\n",
       "count  19986.000000  19986.000000  19986.000000  19986.000000  19986.000000   \n",
       "mean       1.279095      1.441759      3.457720      0.004253      1.415641   \n",
       "std        0.873231      0.876077      7.887528      0.079603      4.943535   \n",
       "min        0.000000      0.000000      0.000000      0.000000      0.000000   \n",
       "25%        1.000000      1.000000      1.000000      0.000000      0.000000   \n",
       "50%        1.000000      1.000000      1.000000      0.000000      0.000000   \n",
       "75%        2.000000      2.000000      2.000000      0.000000      0.000000   \n",
       "max       46.000000     24.000000    198.000000      2.000000    108.000000   \n",
       "\n",
       "       ...    Javascript            AA    OpenAction      AcroForm  \\\n",
       "count  ...  19986.000000  19986.000000  19986.000000  19986.000000   \n",
       "mean   ...      0.808616      0.151456      0.450766      0.298859   \n",
       "std    ...      3.417061      3.950536      0.507736      0.610143   \n",
       "min    ...      0.000000      0.000000      0.000000      0.000000   \n",
       "25%    ...      0.000000      0.000000      0.000000      0.000000   \n",
       "50%    ...      1.000000      0.000000      0.000000      0.000000   \n",
       "75%    ...      1.000000      0.000000      1.000000      0.000000   \n",
       "max    ...    404.000000    213.000000      8.000000      6.000000   \n",
       "\n",
       "        JBIG2Decode     RichMedia        Launch  EmbeddedFile           XFA  \\\n",
       "count  19986.000000  19986.000000  19986.000000  19986.000000  19986.000000   \n",
       "mean       0.022516      0.000901      0.008206      0.628890      0.046583   \n",
       "std        0.369859      0.049000      0.548779      2.199603      0.213813   \n",
       "min        0.000000      0.000000      0.000000      0.000000      0.000000   \n",
       "25%        0.000000      0.000000      0.000000      0.000000      0.000000   \n",
       "50%        0.000000      0.000000      0.000000      0.000000      0.000000   \n",
       "75%        0.000000      0.000000      0.000000      0.000000      0.000000   \n",
       "max       14.000000      4.000000     77.000000     17.000000      5.000000   \n",
       "\n",
       "             Colors  \n",
       "count  19986.000000  \n",
       "mean       0.000500  \n",
       "std        0.024499  \n",
       "min        0.000000  \n",
       "25%        0.000000  \n",
       "50%        0.000000  \n",
       "75%        0.000000  \n",
       "max        2.000000  \n",
       "\n",
       "[8 rows x 21 columns]"
      ]
     },
     "execution_count": 8,
     "metadata": {},
     "output_type": "execute_result"
    }
   ],
   "source": [
    "X.describe()"
   ]
  },
  {
   "cell_type": "code",
   "execution_count": 9,
   "metadata": {},
   "outputs": [
    {
     "data": {
      "text/plain": [
       "status          0\n",
       "obj             1\n",
       "endobj          1\n",
       "stream          1\n",
       "endstream       1\n",
       "xref            1\n",
       "trailer         1\n",
       "startxref       1\n",
       "Page            1\n",
       "Encrypt         1\n",
       "ObjStm          1\n",
       "JS              1\n",
       "Javascript      1\n",
       "AA              1\n",
       "OpenAction      1\n",
       "AcroForm        1\n",
       "JBIG2Decode     1\n",
       "RichMedia       1\n",
       "Launch          1\n",
       "EmbeddedFile    1\n",
       "XFA             1\n",
       "Colors          1\n",
       "dtype: int64"
      ]
     },
     "execution_count": 9,
     "metadata": {},
     "output_type": "execute_result"
    }
   ],
   "source": [
    "X.isna().sum()"
   ]
  },
  {
   "cell_type": "code",
   "execution_count": 10,
   "metadata": {},
   "outputs": [],
   "source": [
    "X.dropna(inplace=True)"
   ]
  },
  {
   "cell_type": "code",
   "execution_count": 11,
   "metadata": {},
   "outputs": [
    {
     "data": {
      "text/plain": [
       "<matplotlib.axes._subplots.AxesSubplot at 0x17c390ed9e8>"
      ]
     },
     "execution_count": 11,
     "metadata": {},
     "output_type": "execute_result"
    },
    {
     "data": {
      "image/png": "[encoded data removed]",
      "text/plain": [
       "<Figure size 1728x720 with 3 Axes>"
      ]
     },
     "metadata": {
      "needs_background": "light"
     },
     "output_type": "display_data"
    }
   ],
   "source": [
    "msno.bar(X)"
   ]
  },
  {
   "cell_type": "markdown",
   "metadata": {},
   "source": [
    "## Let's go inside the Data"
   ]
  },
  {
   "cell_type": "code",
   "execution_count": 12,
   "metadata": {},
   "outputs": [],
   "source": [
    "def count(col):\n",
    "    plt.figure(figsize=(14,6))\n",
    "    \n",
    "    plt.subplot(1,2,1)\n",
    "    X[col].value_counts().plot.pie(autopct='%1.1f%%',shadow=True);\n",
    "    \n",
    "    plt.subplot(1,2,2)\n",
    "    sns.countplot(X[col])\n",
    "    \n",
    "    plt.show()\n",
    "    \n",
    "def count_with_hue(col,hue):\n",
    "    \n",
    "    sns.countplot(x=col,data=X,hue=hue)\n",
    "    \n",
    "def relation_plot(col1,col2):\n",
    "    sns.relplot(x=col1,y=col2,data=X,col='status',kind=\"scatter\")"
   ]
  },
  {
   "cell_type": "code",
   "execution_count": 13,
   "metadata": {},
   "outputs": [
    {
     "data": {
      "image/png": "[encoded data removed]",
      "text/plain": [
       "<Figure size 1008x432 with 2 Axes>"
      ]
     },
     "metadata": {
      "needs_background": "light"
     },
     "output_type": "display_data"
    }
   ],
   "source": [
    "count('status')"
   ]
  },
  {
   "cell_type": "markdown",
   "metadata": {},
   "source": [
    "#### Notice data before dropping Duplicate Values"
   ]
  },
  {
   "cell_type": "code",
   "execution_count": 14,
   "metadata": {},
   "outputs": [
    {
     "data": {
      "image/png": "[encoded data removed]",
      "text/plain": [
       "<Figure size 432x288 with 1 Axes>"
      ]
     },
     "metadata": {
      "needs_background": "light"
     },
     "output_type": "display_data"
    }
   ],
   "source": [
    "count_with_hue('Launch','status')"
   ]
  },
  {
   "cell_type": "code",
   "execution_count": 15,
   "metadata": {},
   "outputs": [
    {
     "data": {
      "image/png": "[encoded data removed]",
      "text/plain": [
       "<Figure size 432x288 with 1 Axes>"
      ]
     },
     "metadata": {
      "needs_background": "light"
     },
     "output_type": "display_data"
    }
   ],
   "source": [
    "count_with_hue('XFA','status')"
   ]
  },
  {
   "cell_type": "code",
   "execution_count": 16,
   "metadata": {},
   "outputs": [
    {
     "data": {
      "image/png": "[encoded data removed]",
      "text/plain": [
       "<Figure size 432x288 with 1 Axes>"
      ]
     },
     "metadata": {
      "needs_background": "light"
     },
     "output_type": "display_data"
    }
   ],
   "source": [
    "count_with_hue('EmbeddedFile','status')"
   ]
  },
  {
   "cell_type": "code",
   "execution_count": 17,
   "metadata": {},
   "outputs": [
    {
     "data": {
      "image/png": "[encoded data removed]",
      "text/plain": [
       "<Figure size 1440x1440 with 25 Axes>"
      ]
     },
     "metadata": {
      "needs_background": "light"
     },
     "output_type": "display_data"
    }
   ],
   "source": [
    "X.hist(bins=10 , figsize=(20,20)) \n",
    "plt.show()\n"
   ]
  },
  {
   "cell_type": "markdown",
   "metadata": {},
   "source": [
    "#### After these visualization you should notice that Although you have several unique values but There are only almost two values repeats several times and others have  poor repeated"
   ]
  },
  {
   "cell_type": "code",
   "execution_count": null,
   "metadata": {},
   "outputs": [
    {
     "data": {
      "text/plain": [
       "<matplotlib.axes._subplots.AxesSubplot at 0x17c3a967940>"
      ]
     },
     "execution_count": 18,
     "metadata": {},
     "output_type": "execute_result"
    }
   ],
   "source": [
    "sns.scatterplot(x=\"obj\",y=\"endobj\",data=X,hue='status')"
   ]
  },
  {
   "cell_type": "code",
   "execution_count": null,
   "metadata": {},
   "outputs": [],
   "source": [
    "relation_plot('obj','endobj')"
   ]
  },
  {
   "cell_type": "markdown",
   "metadata": {},
   "source": [
    "### I tried to grouped it but according to this pic grouping won't give better score"
   ]
  },
  {
   "cell_type": "code",
   "execution_count": null,
   "metadata": {},
   "outputs": [],
   "source": [
    "X.loc[X.iloc[:,1:].duplicated(),'status'].value_counts()"
   ]
  },
  {
   "cell_type": "code",
   "execution_count": null,
   "metadata": {},
   "outputs": [],
   "source": [
    "X.drop(X.loc[X.iloc[:,1:].duplicated()].index,inplace=True)"
   ]
  },
  {
   "cell_type": "code",
   "execution_count": null,
   "metadata": {},
   "outputs": [],
   "source": [
    "count('status')"
   ]
  },
  {
   "cell_type": "markdown",
   "metadata": {},
   "source": [
    "### after dropping Duplicate values"
   ]
  },
  {
   "cell_type": "code",
   "execution_count": null,
   "metadata": {},
   "outputs": [],
   "source": [
    "map={'no':0,'malcious':1}\n",
    "X['status'] = X['status'].replace(map)"
   ]
  },
  {
   "cell_type": "code",
   "execution_count": null,
   "metadata": {},
   "outputs": [],
   "source": [
    "rf = RandomForestClassifier()\n",
    "rf.fit(X.iloc[:,1:],X.iloc[:,0])\n",
    "\n",
    "plt.figure(figsize=(10,7))\n",
    "\n",
    "plt.plot(rf.feature_importances_)\n",
    "plt.xticks(np.arange(X.iloc[:,1:].shape[1]), X.iloc[:,1:].columns.tolist(), rotation=90)\n",
    "plt.show()\n"
   ]
  },
  {
   "cell_type": "markdown",
   "metadata": {},
   "source": [
    "#### we can decriment Features into 5 only : 'obj','endobj','stream','JS','Javascript'\n",
    "#### And we 'll get the same results \n",
    "#### but i have to return to my team because that will effect on input\n",
    "\n"
   ]
  },
  {
   "cell_type": "code",
   "execution_count": null,
   "metadata": {},
   "outputs": [],
   "source": [
    "plt.figure(figsize=(18,12))  \n",
    "p=sns.heatmap(X.corr(), annot=True)"
   ]
  },
  {
   "cell_type": "code",
   "execution_count": null,
   "metadata": {},
   "outputs": [],
   "source": [
    "X_train, X_test, y_train, y_test = train_test_split(X.iloc[:,1:], X.iloc[:,0], test_size=0.1, random_state=44,shuffle =True)"
   ]
  },
  {
   "cell_type": "code",
   "execution_count": null,
   "metadata": {},
   "outputs": [],
   "source": [
    "acc_models_training=[]\n",
    "acc_models_testing=[]\n",
    "acc_models_Recall_Mal=[]\n",
    "acc_models_Precision_Mal=[]\n",
    "acc_models_Precision_secure=[]\n",
    "acc_models_Recall_secure=[]\n"
   ]
  },
  {
   "cell_type": "code",
   "execution_count": null,
   "metadata": {},
   "outputs": [],
   "source": [
    "def precision_recall(y_test,y_pred):\n",
    "    \n",
    "    # precision And Recall for Malicious\n",
    "    PrecisionScore = precision_score(y_test, y_pred,pos_label=1, average='binary')\n",
    "    acc_models_Precision_Mal.append (PrecisionScore)\n",
    "    \n",
    "    RecallScore = recall_score(y_test, y_pred,pos_label=1, average='binary') \n",
    "    acc_models_Recall_Mal.append (RecallScore)\n",
    "    \n",
    "    # precision And Recall for Secure\n",
    "    PrecisionScore = precision_score(y_test, y_pred,pos_label=0, average='binary') \n",
    "    acc_models_Precision_secure.append (PrecisionScore)\n",
    "    \n",
    "    RecallScore = recall_score(y_test, y_pred,pos_label=0, average='binary') \n",
    "    acc_models_Recall_secure.append (RecallScore)\n",
    "\n",
    "    \n",
    "def scores(Model):\n",
    "    print('Train score is : {0}'.format(Model.score(X_train, y_train)))\n",
    "    print('Test score is : {0}'.format(Model.score(X_test, y_test)))\n",
    "\n",
    "    acc_models_training.append(Model.score(X_train, y_train))\n",
    "    acc_models_testing.append(Model.score(X_test, y_test))\n",
    "    \n",
    "    y_pred=Model.predict(X_test)\n",
    "    \n",
    "    CM = confusion_matrix(y_test, y_pred)\n",
    "    print('Confusion Matrix is : \\n', CM)\n",
    "    precision_recall(y_test,y_pred)\n",
    "    \n",
    "    "
   ]
  },
  {
   "cell_type": "code",
   "execution_count": null,
   "metadata": {},
   "outputs": [],
   "source": [
    "LogisticRegressionModel = LogisticRegression()\n",
    "LogisticRegressionModel.fit(X_train, y_train)\n",
    "\n"
   ]
  },
  {
   "cell_type": "code",
   "execution_count": null,
   "metadata": {},
   "outputs": [],
   "source": [
    "scores(LogisticRegressionModel)"
   ]
  },
  {
   "cell_type": "code",
   "execution_count": null,
   "metadata": {},
   "outputs": [],
   "source": []
  },
  {
   "cell_type": "code",
   "execution_count": null,
   "metadata": {},
   "outputs": [],
   "source": [
    " \n",
    "RandomForestClassifierModel = RandomForestClassifier(criterion = 'gini',n_estimators=100,max_depth=9) #criterion can be also : entropy \n",
    "\n",
    "RandomForestClassifierModel.fit(X_train, y_train)\n",
    "\n"
   ]
  },
  {
   "cell_type": "code",
   "execution_count": null,
   "metadata": {},
   "outputs": [],
   "source": [
    "scores(RandomForestClassifierModel)"
   ]
  },
  {
   "cell_type": "code",
   "execution_count": null,
   "metadata": {},
   "outputs": [],
   "source": []
  },
  {
   "cell_type": "code",
   "execution_count": null,
   "metadata": {},
   "outputs": [],
   "source": []
  },
  {
   "cell_type": "code",
   "execution_count": null,
   "metadata": {},
   "outputs": [],
   "source": [
    "# Grid Search for KNN classifier\n",
    "\n",
    "SelectedModel = KNeighborsClassifier() \n",
    "\n",
    "SelectedParameters = {'n_neighbors':[i for i in range(2,10)], 'weights':['distance','uniform'],'algorithm':['ball_tree','kd_tree','auto']}\n",
    "\n",
    "\n",
    "GridSearchModel = GridSearchCV(SelectedModel,SelectedParameters, cv = 2,return_train_score=True)\n",
    "GridSearchModel.fit(X_test, y_test)\n",
    "\n",
    "\n",
    "print('Best Score is :', GridSearchModel.best_score_)\n",
    "print('Best Parameters are :', GridSearchModel.best_params_)\n",
    "print('Best Estimator is :', GridSearchModel.best_estimator_)"
   ]
  },
  {
   "cell_type": "code",
   "execution_count": null,
   "metadata": {},
   "outputs": [],
   "source": [
    "KNNClassifierModel = KNeighborsClassifier(algorithm = 'ball_tree', n_neighbors= 3, weights= 'distance' )\n",
    "KNNClassifierModel.fit(X_train, y_train)\n",
    "\n"
   ]
  },
  {
   "cell_type": "code",
   "execution_count": null,
   "metadata": {},
   "outputs": [],
   "source": [
    "scores(KNNClassifierModel)"
   ]
  },
  {
   "cell_type": "code",
   "execution_count": null,
   "metadata": {},
   "outputs": [],
   "source": []
  },
  {
   "cell_type": "code",
   "execution_count": null,
   "metadata": {},
   "outputs": [],
   "source": [
    "SVCModel = SVC()\n",
    "SVCModel.fit(X_train, y_train)"
   ]
  },
  {
   "cell_type": "code",
   "execution_count": null,
   "metadata": {},
   "outputs": [],
   "source": [
    "scores(SVCModel)"
   ]
  },
  {
   "cell_type": "code",
   "execution_count": null,
   "metadata": {},
   "outputs": [],
   "source": []
  },
  {
   "cell_type": "code",
   "execution_count": null,
   "metadata": {},
   "outputs": [],
   "source": [
    "    plt.figure(figsize=(14,6))\n",
    "    \n",
    "    plt.subplot(1,2,1)\n",
    "    X[col].value_counts().plot.pie(autopct='%1.1f%%',shadow=True);\n",
    "    \n",
    "    plt.subplot(1,2,2)\n",
    "    sns.countplot(X[col])\n"
   ]
  },
  {
   "cell_type": "code",
   "execution_count": null,
   "metadata": {},
   "outputs": [],
   "source": [
    "\n",
    "plt.figure(figsize=(10,10))\n",
    "\n",
    "plt.subplot(2,2,1)\n",
    "plt.plot(['Logistic Reg','Random forest','KNN','SVC'],acc_models_training,'r')\n",
    "plt.legend(['Training Acc'])\n",
    "\n",
    "plt.subplot(2,2,2)\n",
    "plt.plot(['Logistic Reg','Random forest','KNN','SVC'],acc_models_testing,'blue')\n",
    "plt.legend(['Testing Acc'])\n",
    "            \n",
    "plt.subplot(2,2,3)\n",
    "plt.plot(['Logistic Reg','Random forest','KNN','SVC'],acc_models_Precision_Mal,'brown')\n",
    "plt.legend(['Precision for Malicious Data'] ) \n",
    "\n",
    "plt.subplot(2,2,4)\n",
    "plt.plot(['Logistic Reg','Random forest','KNN','SVC'],acc_models_Precision_secure,'brown')\n",
    "plt.legend(['Precision for Secure Data'])\n",
    "plt.show()\n",
    "\n"
   ]
  },
  {
   "cell_type": "code",
   "execution_count": null,
   "metadata": {},
   "outputs": [],
   "source": [
    "plt.figure(figsize=(10,8))\n",
    "\n",
    "plt.subplot(2,1,1)\n",
    "plt.plot(['Logistic Reg','Random forest','KNN','SVC'],acc_models_Recall_Mal,'cyan')\n",
    "plt.legend(['Recall for Malicious Data'])\n",
    "\n",
    "plt.subplot(2,1,2)\n",
    "plt.plot(['Logistic Reg','Random forest','KNN','SVC'],acc_models_Recall_secure,'blue')\n",
    "plt.legend(['Recall for Secure Data'])\n",
    "\n",
    "plt.show()"
   ]
  },
  {
   "cell_type": "markdown",
   "metadata": {},
   "source": [
    "#### As viewed All of these have training and testing accuracy over 99% but i will choose based on Recall\n",
    "#### you may have observed that recall is less than others but why ? recall measurment tell us the algorithms how many malwares the alg extract from all malwares here is in random forest 88% it is very good percent based on num of malwares in this model with these low number of feature Don't forget that (you have only 200 malicious and 5000 no )\n",
    "\n"
   ]
  },
  {
   "cell_type": "code",
   "execution_count": null,
   "metadata": {},
   "outputs": [],
   "source": []
  },
  {
   "cell_type": "markdown",
   "metadata": {},
   "source": [
    "## We Saved The Model and concatenate the file saved into Extract_PDF_Run_Model"
   ]
  },
  {
   "cell_type": "code",
   "execution_count": null,
   "metadata": {},
   "outputs": [],
   "source": [
    "# It is saved Step\n",
    "#jb.dump(RandomForestClassifierModel , 'saved file.sav')"
   ]
  },
  {
   "cell_type": "code",
   "execution_count": null,
   "metadata": {},
   "outputs": [],
   "source": [
    "# The \n",
    "def out_(lis):\n",
    "    inp_=np.array(lis)\n",
    "    inp_=inp_.reshape(-1,X.shape[1]-1)\n",
    "    pred=RandomForestClassifierModel.predict(inp_)\n",
    "    if pred==0 : print (\"It's Secure \")\n",
    "    else : print ('Malcious')    "
   ]
  },
  {
   "cell_type": "code",
   "execution_count": null,
   "metadata": {},
   "outputs": [],
   "source": []
  }
 ],
 "metadata": {
  "kernelspec": {
   "display_name": "Python 3",
   "language": "python",
   "name": "python3"
  },
  "language_info": {
   "codemirror_mode": {
    "name": "ipython",
    "version": 3
   },
   "file_extension": ".py",
   "mimetype": "text/x-python",
   "name": "python",
   "nbconvert_exporter": "python",
   "pygments_lexer": "ipython3",
   "version": "3.7.3"
  }
 },
 "nbformat": 4,
 "nbformat_minor": 2
}
